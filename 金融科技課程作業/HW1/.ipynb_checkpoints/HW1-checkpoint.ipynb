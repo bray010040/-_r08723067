{
 "cells": [
  {
   "cell_type": "code",
   "execution_count": 1,
   "metadata": {},
   "outputs": [],
   "source": [
    "filename_raw = 'C:/Users/user/Desktop/作業/金融科技課程作業/eurusd_2010_2017.csv'\n",
    "filename_pro = 'C:/Users/user/Desktop/作業/金融科技課程作業/eurusd_2010_2017_1T.csv'\n",
    "filename_rule = 'C:/Users/user/Desktop/作業/金融科技課程作業/eurusd_2010_2017_1T_rulebase.csv'\n",
    "pattern_path = 'C:/Users/user/Desktop/作業/金融科技課程作業/pattern'\n",
    "timeScale = '1min'\n",
    "signal_ls = ['EveningStar', 'MorningStar', 'ShootingStar', \n",
    "             'InvertHammer', 'BearishHarami', 'BearishEngulfing',\n",
    "             'BullishHarami', 'BullishEngulfing']"
   ]
  },
  {
   "cell_type": "code",
   "execution_count": 2,
   "metadata": {},
   "outputs": [
    {
     "name": "stderr",
     "output_type": "stream",
     "text": [
      "c:\\users\\user\\appdata\\local\\programs\\python\\python38\\lib\\site-packages\\mpl_finance.py:16: DeprecationWarning: \n",
      "\n",
      "  =================================================================\n",
      "\n",
      "   WARNING: `mpl_finance` is deprecated:\n",
      "\n",
      "    Please use `mplfinance` instead (no hyphen, no underscore).\n",
      "\n",
      "    To install: `pip install --upgrade mplfinance` \n",
      "\n",
      "   For more information, see: https://pypi.org/project/mplfinance/\n",
      "\n",
      "  =================================================================\n",
      "\n",
      "  __warnings.warn('\\n\\n  ================================================================='+\n"
     ]
    }
   ],
   "source": [
    "import Main\n",
    "M =  Main.Main(filename_raw, filename_pro, filename_rule, pattern_path, timeScale)"
   ]
  },
  {
   "cell_type": "code",
   "execution_count": 3,
   "metadata": {},
   "outputs": [
    {
     "name": "stderr",
     "output_type": "stream",
     "text": [
      "C:\\Users\\user\\Desktop\\作業\\金融科技課程作業\\Process.py:30: SettingWithCopyWarning: \n",
      "A value is trying to be set on a copy of a slice from a DataFrame\n",
      "\n",
      "See the caveats in the documentation: https://pandas.pydata.org/pandas-docs/stable/user_guide/indexing.html#returning-a-view-versus-a-copy\n",
      "  self.data.dropna(inplace=True)\n"
     ]
    }
   ],
   "source": [
    "M.process()"
   ]
  },
  {
   "cell_type": "code",
   "execution_count": 4,
   "metadata": {},
   "outputs": [
    {
     "data": {
      "text/html": [
       "<div>\n",
       "<style scoped>\n",
       "    .dataframe tbody tr th:only-of-type {\n",
       "        vertical-align: middle;\n",
       "    }\n",
       "\n",
       "    .dataframe tbody tr th {\n",
       "        vertical-align: top;\n",
       "    }\n",
       "\n",
       "    .dataframe thead th {\n",
       "        text-align: right;\n",
       "    }\n",
       "</style>\n",
       "<table border=\"1\" class=\"dataframe\">\n",
       "  <thead>\n",
       "    <tr style=\"text-align: right;\">\n",
       "      <th></th>\n",
       "      <th>date</th>\n",
       "      <th>low</th>\n",
       "      <th>high</th>\n",
       "      <th>close</th>\n",
       "      <th>open</th>\n",
       "      <th>realbody</th>\n",
       "      <th>direction</th>\n",
       "      <th>ushadow_width</th>\n",
       "      <th>lshadow_width</th>\n",
       "      <th>ushadow_per</th>\n",
       "      <th>lshadow_per</th>\n",
       "      <th>realbody_per</th>\n",
       "    </tr>\n",
       "    <tr>\n",
       "      <th>timestamp</th>\n",
       "      <th></th>\n",
       "      <th></th>\n",
       "      <th></th>\n",
       "      <th></th>\n",
       "      <th></th>\n",
       "      <th></th>\n",
       "      <th></th>\n",
       "      <th></th>\n",
       "      <th></th>\n",
       "      <th></th>\n",
       "      <th></th>\n",
       "      <th></th>\n",
       "    </tr>\n",
       "  </thead>\n",
       "  <tbody>\n",
       "    <tr>\n",
       "      <th>2010-01-01 00:52:00</th>\n",
       "      <td>01.01.2010 00:52:00.000</td>\n",
       "      <td>1.43266</td>\n",
       "      <td>1.43281</td>\n",
       "      <td>1.43275</td>\n",
       "      <td>1.43272</td>\n",
       "      <td>0.00003</td>\n",
       "      <td>1.0</td>\n",
       "      <td>0.00006</td>\n",
       "      <td>0.00006</td>\n",
       "      <td>78.0</td>\n",
       "      <td>70.0</td>\n",
       "      <td>16.0</td>\n",
       "    </tr>\n",
       "    <tr>\n",
       "      <th>2010-01-01 00:53:00</th>\n",
       "      <td>01.01.2010 00:53:00.000</td>\n",
       "      <td>1.43269</td>\n",
       "      <td>1.43285</td>\n",
       "      <td>1.43274</td>\n",
       "      <td>1.43272</td>\n",
       "      <td>0.00002</td>\n",
       "      <td>1.0</td>\n",
       "      <td>0.00011</td>\n",
       "      <td>0.00003</td>\n",
       "      <td>92.0</td>\n",
       "      <td>44.0</td>\n",
       "      <td>8.0</td>\n",
       "    </tr>\n",
       "    <tr>\n",
       "      <th>2010-01-01 00:54:00</th>\n",
       "      <td>01.01.2010 00:54:00.000</td>\n",
       "      <td>1.43278</td>\n",
       "      <td>1.43292</td>\n",
       "      <td>1.43278</td>\n",
       "      <td>1.43285</td>\n",
       "      <td>-0.00007</td>\n",
       "      <td>-1.0</td>\n",
       "      <td>0.00007</td>\n",
       "      <td>0.00000</td>\n",
       "      <td>84.0</td>\n",
       "      <td>0.0</td>\n",
       "      <td>46.0</td>\n",
       "    </tr>\n",
       "    <tr>\n",
       "      <th>2010-01-01 00:55:00</th>\n",
       "      <td>01.01.2010 00:55:00.000</td>\n",
       "      <td>1.43278</td>\n",
       "      <td>1.43291</td>\n",
       "      <td>1.43285</td>\n",
       "      <td>1.43278</td>\n",
       "      <td>0.00007</td>\n",
       "      <td>1.0</td>\n",
       "      <td>0.00006</td>\n",
       "      <td>0.00000</td>\n",
       "      <td>72.0</td>\n",
       "      <td>0.0</td>\n",
       "      <td>44.0</td>\n",
       "    </tr>\n",
       "    <tr>\n",
       "      <th>2010-01-01 00:56:00</th>\n",
       "      <td>01.01.2010 00:56:00.000</td>\n",
       "      <td>1.43277</td>\n",
       "      <td>1.43290</td>\n",
       "      <td>1.43282</td>\n",
       "      <td>1.43284</td>\n",
       "      <td>-0.00002</td>\n",
       "      <td>-1.0</td>\n",
       "      <td>0.00006</td>\n",
       "      <td>0.00005</td>\n",
       "      <td>70.0</td>\n",
       "      <td>58.0</td>\n",
       "      <td>8.0</td>\n",
       "    </tr>\n",
       "    <tr>\n",
       "      <th>...</th>\n",
       "      <td>...</td>\n",
       "      <td>...</td>\n",
       "      <td>...</td>\n",
       "      <td>...</td>\n",
       "      <td>...</td>\n",
       "      <td>...</td>\n",
       "      <td>...</td>\n",
       "      <td>...</td>\n",
       "      <td>...</td>\n",
       "      <td>...</td>\n",
       "      <td>...</td>\n",
       "      <td>...</td>\n",
       "    </tr>\n",
       "    <tr>\n",
       "      <th>2012-11-28 04:31:00</th>\n",
       "      <td>28.11.2012 04:31:00.000</td>\n",
       "      <td>1.29319</td>\n",
       "      <td>1.29337</td>\n",
       "      <td>1.29325</td>\n",
       "      <td>1.29324</td>\n",
       "      <td>0.00001</td>\n",
       "      <td>1.0</td>\n",
       "      <td>0.00012</td>\n",
       "      <td>0.00005</td>\n",
       "      <td>92.0</td>\n",
       "      <td>64.0</td>\n",
       "      <td>6.0</td>\n",
       "    </tr>\n",
       "    <tr>\n",
       "      <th>2012-11-28 04:32:00</th>\n",
       "      <td>28.11.2012 04:32:00.000</td>\n",
       "      <td>1.29314</td>\n",
       "      <td>1.29339</td>\n",
       "      <td>1.29330</td>\n",
       "      <td>1.29326</td>\n",
       "      <td>0.00004</td>\n",
       "      <td>1.0</td>\n",
       "      <td>0.00009</td>\n",
       "      <td>0.00012</td>\n",
       "      <td>88.0</td>\n",
       "      <td>96.0</td>\n",
       "      <td>50.0</td>\n",
       "    </tr>\n",
       "    <tr>\n",
       "      <th>2012-11-28 04:33:00</th>\n",
       "      <td>28.11.2012 04:33:00.000</td>\n",
       "      <td>1.29323</td>\n",
       "      <td>1.29338</td>\n",
       "      <td>1.29326</td>\n",
       "      <td>1.29328</td>\n",
       "      <td>-0.00002</td>\n",
       "      <td>-1.0</td>\n",
       "      <td>0.00010</td>\n",
       "      <td>0.00003</td>\n",
       "      <td>88.0</td>\n",
       "      <td>58.0</td>\n",
       "      <td>24.0</td>\n",
       "    </tr>\n",
       "    <tr>\n",
       "      <th>2012-11-28 04:34:00</th>\n",
       "      <td>28.11.2012 04:34:00.000</td>\n",
       "      <td>1.29326</td>\n",
       "      <td>1.29336</td>\n",
       "      <td>1.29334</td>\n",
       "      <td>1.29326</td>\n",
       "      <td>0.00008</td>\n",
       "      <td>1.0</td>\n",
       "      <td>0.00002</td>\n",
       "      <td>0.00000</td>\n",
       "      <td>58.0</td>\n",
       "      <td>0.0</td>\n",
       "      <td>86.0</td>\n",
       "    </tr>\n",
       "    <tr>\n",
       "      <th>2012-11-28 04:35:00</th>\n",
       "      <td>28.11.2012 04:35:00.000</td>\n",
       "      <td>1.29331</td>\n",
       "      <td>1.29339</td>\n",
       "      <td>1.29334</td>\n",
       "      <td>1.29333</td>\n",
       "      <td>0.00001</td>\n",
       "      <td>1.0</td>\n",
       "      <td>0.00005</td>\n",
       "      <td>0.00002</td>\n",
       "      <td>74.0</td>\n",
       "      <td>34.0</td>\n",
       "      <td>6.0</td>\n",
       "    </tr>\n",
       "  </tbody>\n",
       "</table>\n",
       "<p>1048524 rows × 12 columns</p>\n",
       "</div>"
      ],
      "text/plain": [
       "                                        date      low     high    close  \\\n",
       "timestamp                                                                 \n",
       "2010-01-01 00:52:00  01.01.2010 00:52:00.000  1.43266  1.43281  1.43275   \n",
       "2010-01-01 00:53:00  01.01.2010 00:53:00.000  1.43269  1.43285  1.43274   \n",
       "2010-01-01 00:54:00  01.01.2010 00:54:00.000  1.43278  1.43292  1.43278   \n",
       "2010-01-01 00:55:00  01.01.2010 00:55:00.000  1.43278  1.43291  1.43285   \n",
       "2010-01-01 00:56:00  01.01.2010 00:56:00.000  1.43277  1.43290  1.43282   \n",
       "...                                      ...      ...      ...      ...   \n",
       "2012-11-28 04:31:00  28.11.2012 04:31:00.000  1.29319  1.29337  1.29325   \n",
       "2012-11-28 04:32:00  28.11.2012 04:32:00.000  1.29314  1.29339  1.29330   \n",
       "2012-11-28 04:33:00  28.11.2012 04:33:00.000  1.29323  1.29338  1.29326   \n",
       "2012-11-28 04:34:00  28.11.2012 04:34:00.000  1.29326  1.29336  1.29334   \n",
       "2012-11-28 04:35:00  28.11.2012 04:35:00.000  1.29331  1.29339  1.29334   \n",
       "\n",
       "                        open  realbody  direction  ushadow_width  \\\n",
       "timestamp                                                          \n",
       "2010-01-01 00:52:00  1.43272   0.00003        1.0        0.00006   \n",
       "2010-01-01 00:53:00  1.43272   0.00002        1.0        0.00011   \n",
       "2010-01-01 00:54:00  1.43285  -0.00007       -1.0        0.00007   \n",
       "2010-01-01 00:55:00  1.43278   0.00007        1.0        0.00006   \n",
       "2010-01-01 00:56:00  1.43284  -0.00002       -1.0        0.00006   \n",
       "...                      ...       ...        ...            ...   \n",
       "2012-11-28 04:31:00  1.29324   0.00001        1.0        0.00012   \n",
       "2012-11-28 04:32:00  1.29326   0.00004        1.0        0.00009   \n",
       "2012-11-28 04:33:00  1.29328  -0.00002       -1.0        0.00010   \n",
       "2012-11-28 04:34:00  1.29326   0.00008        1.0        0.00002   \n",
       "2012-11-28 04:35:00  1.29333   0.00001        1.0        0.00005   \n",
       "\n",
       "                     lshadow_width  ushadow_per  lshadow_per  realbody_per  \n",
       "timestamp                                                                   \n",
       "2010-01-01 00:52:00        0.00006         78.0         70.0          16.0  \n",
       "2010-01-01 00:53:00        0.00003         92.0         44.0           8.0  \n",
       "2010-01-01 00:54:00        0.00000         84.0          0.0          46.0  \n",
       "2010-01-01 00:55:00        0.00000         72.0          0.0          44.0  \n",
       "2010-01-01 00:56:00        0.00005         70.0         58.0           8.0  \n",
       "...                            ...          ...          ...           ...  \n",
       "2012-11-28 04:31:00        0.00005         92.0         64.0           6.0  \n",
       "2012-11-28 04:32:00        0.00012         88.0         96.0          50.0  \n",
       "2012-11-28 04:33:00        0.00003         88.0         58.0          24.0  \n",
       "2012-11-28 04:34:00        0.00000         58.0          0.0          86.0  \n",
       "2012-11-28 04:35:00        0.00002         74.0         34.0           6.0  \n",
       "\n",
       "[1048524 rows x 12 columns]"
      ]
     },
     "execution_count": 4,
     "metadata": {},
     "output_type": "execute_result"
    }
   ],
   "source": [
    "M.data_pro_df"
   ]
  },
  {
   "cell_type": "code",
   "execution_count": 6,
   "metadata": {},
   "outputs": [
    {
     "name": "stderr",
     "output_type": "stream",
     "text": [
      "100%|██████████████████████████████████████████████████████████████████████| 1048524/1048524 [5:51:38<00:00, 49.70it/s]\n"
     ]
    },
    {
     "name": "stdout",
     "output_type": "stream",
     "text": [
      "Time Scale: 1m\n",
      "Period: 2010-01-01 01:01:00 - 2012-11-28 04:35:00\n",
      "The Number of Patterns in Each Signal:\n",
      "None: 1032317\n",
      "EveningStar: 988\n",
      "MorningStar: 906\n",
      "DaBaoSher: 0\n",
      "YaMeDay: 0\n",
      "ShootingStar: 2863\n",
      "InvertHammer: 3380\n",
      "BearishHarami: 2088\n",
      "BearishEngulfing: 1909\n",
      "BullishHarami: 2093\n",
      "BullishEngulfing: 1971\n"
     ]
    }
   ],
   "source": [
    "M.detect()"
   ]
  },
  {
   "cell_type": "code",
   "execution_count": 8,
   "metadata": {},
   "outputs": [
    {
     "name": "stderr",
     "output_type": "stream",
     "text": [
      "\r",
      "  0%|                                                                                            | 0/1 [00:00<?, ?it/s]"
     ]
    },
    {
     "data": {
      "image/png": "[encoded data removed]",
      "text/plain": [
       "<Figure size 1296x864 with 1 Axes>"
      ]
     },
     "metadata": {
      "needs_background": "light"
     },
     "output_type": "display_data"
    },
    {
     "name": "stderr",
     "output_type": "stream",
     "text": [
      "100%|████████████████████████████████████████████████████████████████████████████████████| 1/1 [00:00<00:00,  2.27it/s]\n"
     ]
    }
   ],
   "source": [
    "M.graph('EveningStar')"
   ]
  },
  {
   "cell_type": "code",
   "execution_count": 9,
   "metadata": {},
   "outputs": [
    {
     "ename": "ValueError",
     "evalue": "Sample larger than population or is negative",
     "output_type": "error",
     "traceback": [
      "\u001b[1;31m---------------------------------------------------------------------------\u001b[0m",
      "\u001b[1;31mValueError\u001b[0m                                Traceback (most recent call last)",
      "\u001b[1;32m<ipython-input-9-b244c1d11a63>\u001b[0m in \u001b[0;36m<module>\u001b[1;34m\u001b[0m\n\u001b[1;32m----> 1\u001b[1;33m \u001b[0mM\u001b[0m\u001b[1;33m.\u001b[0m\u001b[0mgraph\u001b[0m\u001b[1;33m(\u001b[0m\u001b[1;34m'YaMeDay'\u001b[0m\u001b[1;33m)\u001b[0m\u001b[1;33m\u001b[0m\u001b[1;33m\u001b[0m\u001b[0m\n\u001b[0m",
      "\u001b[1;32m~\\Desktop\\作業\\金融科技課程作業\\Main.py\u001b[0m in \u001b[0;36mgraph\u001b[1;34m(self, signal, num_pattern)\u001b[0m\n\u001b[0;32m     63\u001b[0m         \u001b[0mdata_df\u001b[0m \u001b[1;33m=\u001b[0m \u001b[0mself\u001b[0m\u001b[1;33m.\u001b[0m\u001b[0mload\u001b[0m\u001b[1;33m(\u001b[0m\u001b[0mself\u001b[0m\u001b[1;33m.\u001b[0m\u001b[0mfilename_rule\u001b[0m\u001b[1;33m,\u001b[0m \u001b[1;34m'csv'\u001b[0m\u001b[1;33m)\u001b[0m\u001b[1;33m\u001b[0m\u001b[1;33m\u001b[0m\u001b[0m\n\u001b[0;32m     64\u001b[0m         \u001b[0midx_signal_ls\u001b[0m \u001b[1;33m=\u001b[0m \u001b[0mlist\u001b[0m\u001b[1;33m(\u001b[0m\u001b[0mdata_df\u001b[0m\u001b[1;33m.\u001b[0m\u001b[0mloc\u001b[0m\u001b[1;33m[\u001b[0m\u001b[0mdata_df\u001b[0m\u001b[1;33m[\u001b[0m\u001b[0msignal\u001b[0m\u001b[1;33m]\u001b[0m \u001b[1;33m==\u001b[0m \u001b[1;36m1\u001b[0m\u001b[1;33m]\u001b[0m\u001b[1;33m.\u001b[0m\u001b[0mindex\u001b[0m\u001b[1;33m)\u001b[0m\u001b[1;33m\u001b[0m\u001b[1;33m\u001b[0m\u001b[0m\n\u001b[1;32m---> 65\u001b[1;33m         \u001b[0midx_signal_sample_ls\u001b[0m \u001b[1;33m=\u001b[0m \u001b[0msample\u001b[0m\u001b[1;33m(\u001b[0m\u001b[0midx_signal_ls\u001b[0m\u001b[1;33m,\u001b[0m \u001b[0mnum_pattern\u001b[0m\u001b[1;33m)\u001b[0m\u001b[1;33m\u001b[0m\u001b[1;33m\u001b[0m\u001b[0m\n\u001b[0m\u001b[0;32m     66\u001b[0m         \u001b[1;32mfor\u001b[0m \u001b[0midx\u001b[0m \u001b[1;32min\u001b[0m \u001b[0mtqdm\u001b[0m\u001b[1;33m(\u001b[0m\u001b[0midx_signal_sample_ls\u001b[0m\u001b[1;33m)\u001b[0m\u001b[1;33m:\u001b[0m\u001b[1;33m\u001b[0m\u001b[1;33m\u001b[0m\u001b[0m\n\u001b[0;32m     67\u001b[0m             \u001b[0midx_start\u001b[0m\u001b[1;33m,\u001b[0m \u001b[0midx_end\u001b[0m \u001b[1;33m=\u001b[0m \u001b[1;33m(\u001b[0m\u001b[0midx\u001b[0m \u001b[1;33m-\u001b[0m \u001b[1;36m9\u001b[0m\u001b[1;33m)\u001b[0m\u001b[1;33m,\u001b[0m \u001b[0midx\u001b[0m\u001b[1;33m\u001b[0m\u001b[1;33m\u001b[0m\u001b[0m\n",
      "\u001b[1;32mc:\\users\\user\\appdata\\local\\programs\\python\\python38\\lib\\random.py\u001b[0m in \u001b[0;36msample\u001b[1;34m(self, population, k)\u001b[0m\n\u001b[0;32m    361\u001b[0m         \u001b[0mn\u001b[0m \u001b[1;33m=\u001b[0m \u001b[0mlen\u001b[0m\u001b[1;33m(\u001b[0m\u001b[0mpopulation\u001b[0m\u001b[1;33m)\u001b[0m\u001b[1;33m\u001b[0m\u001b[1;33m\u001b[0m\u001b[0m\n\u001b[0;32m    362\u001b[0m         \u001b[1;32mif\u001b[0m \u001b[1;32mnot\u001b[0m \u001b[1;36m0\u001b[0m \u001b[1;33m<=\u001b[0m \u001b[0mk\u001b[0m \u001b[1;33m<=\u001b[0m \u001b[0mn\u001b[0m\u001b[1;33m:\u001b[0m\u001b[1;33m\u001b[0m\u001b[1;33m\u001b[0m\u001b[0m\n\u001b[1;32m--> 363\u001b[1;33m             \u001b[1;32mraise\u001b[0m \u001b[0mValueError\u001b[0m\u001b[1;33m(\u001b[0m\u001b[1;34m\"Sample larger than population or is negative\"\u001b[0m\u001b[1;33m)\u001b[0m\u001b[1;33m\u001b[0m\u001b[1;33m\u001b[0m\u001b[0m\n\u001b[0m\u001b[0;32m    364\u001b[0m         \u001b[0mresult\u001b[0m \u001b[1;33m=\u001b[0m \u001b[1;33m[\u001b[0m\u001b[1;32mNone\u001b[0m\u001b[1;33m]\u001b[0m \u001b[1;33m*\u001b[0m \u001b[0mk\u001b[0m\u001b[1;33m\u001b[0m\u001b[1;33m\u001b[0m\u001b[0m\n\u001b[0;32m    365\u001b[0m         \u001b[0msetsize\u001b[0m \u001b[1;33m=\u001b[0m \u001b[1;36m21\u001b[0m        \u001b[1;31m# size of a small set minus size of an empty list\u001b[0m\u001b[1;33m\u001b[0m\u001b[1;33m\u001b[0m\u001b[0m\n",
      "\u001b[1;31mValueError\u001b[0m: Sample larger than population or is negative"
     ]
    }
   ],
   "source": [
    "M.graph('YaMeDay')"
   ]
  },
  {
   "cell_type": "code",
   "execution_count": 10,
   "metadata": {},
   "outputs": [
    {
     "ename": "ValueError",
     "evalue": "Sample larger than population or is negative",
     "output_type": "error",
     "traceback": [
      "\u001b[1;31m---------------------------------------------------------------------------\u001b[0m",
      "\u001b[1;31mValueError\u001b[0m                                Traceback (most recent call last)",
      "\u001b[1;32m<ipython-input-10-8b28301bb230>\u001b[0m in \u001b[0;36m<module>\u001b[1;34m\u001b[0m\n\u001b[1;32m----> 1\u001b[1;33m \u001b[0mM\u001b[0m\u001b[1;33m.\u001b[0m\u001b[0mgraph\u001b[0m\u001b[1;33m(\u001b[0m\u001b[1;34m'DaBaoSher'\u001b[0m\u001b[1;33m)\u001b[0m\u001b[1;33m\u001b[0m\u001b[1;33m\u001b[0m\u001b[0m\n\u001b[0m",
      "\u001b[1;32m~\\Desktop\\作業\\金融科技課程作業\\Main.py\u001b[0m in \u001b[0;36mgraph\u001b[1;34m(self, signal, num_pattern)\u001b[0m\n\u001b[0;32m     63\u001b[0m         \u001b[0mdata_df\u001b[0m \u001b[1;33m=\u001b[0m \u001b[0mself\u001b[0m\u001b[1;33m.\u001b[0m\u001b[0mload\u001b[0m\u001b[1;33m(\u001b[0m\u001b[0mself\u001b[0m\u001b[1;33m.\u001b[0m\u001b[0mfilename_rule\u001b[0m\u001b[1;33m,\u001b[0m \u001b[1;34m'csv'\u001b[0m\u001b[1;33m)\u001b[0m\u001b[1;33m\u001b[0m\u001b[1;33m\u001b[0m\u001b[0m\n\u001b[0;32m     64\u001b[0m         \u001b[0midx_signal_ls\u001b[0m \u001b[1;33m=\u001b[0m \u001b[0mlist\u001b[0m\u001b[1;33m(\u001b[0m\u001b[0mdata_df\u001b[0m\u001b[1;33m.\u001b[0m\u001b[0mloc\u001b[0m\u001b[1;33m[\u001b[0m\u001b[0mdata_df\u001b[0m\u001b[1;33m[\u001b[0m\u001b[0msignal\u001b[0m\u001b[1;33m]\u001b[0m \u001b[1;33m==\u001b[0m \u001b[1;36m1\u001b[0m\u001b[1;33m]\u001b[0m\u001b[1;33m.\u001b[0m\u001b[0mindex\u001b[0m\u001b[1;33m)\u001b[0m\u001b[1;33m\u001b[0m\u001b[1;33m\u001b[0m\u001b[0m\n\u001b[1;32m---> 65\u001b[1;33m         \u001b[0midx_signal_sample_ls\u001b[0m \u001b[1;33m=\u001b[0m \u001b[0msample\u001b[0m\u001b[1;33m(\u001b[0m\u001b[0midx_signal_ls\u001b[0m\u001b[1;33m,\u001b[0m \u001b[0mnum_pattern\u001b[0m\u001b[1;33m)\u001b[0m\u001b[1;33m\u001b[0m\u001b[1;33m\u001b[0m\u001b[0m\n\u001b[0m\u001b[0;32m     66\u001b[0m         \u001b[1;32mfor\u001b[0m \u001b[0midx\u001b[0m \u001b[1;32min\u001b[0m \u001b[0mtqdm\u001b[0m\u001b[1;33m(\u001b[0m\u001b[0midx_signal_sample_ls\u001b[0m\u001b[1;33m)\u001b[0m\u001b[1;33m:\u001b[0m\u001b[1;33m\u001b[0m\u001b[1;33m\u001b[0m\u001b[0m\n\u001b[0;32m     67\u001b[0m             \u001b[0midx_start\u001b[0m\u001b[1;33m,\u001b[0m \u001b[0midx_end\u001b[0m \u001b[1;33m=\u001b[0m \u001b[1;33m(\u001b[0m\u001b[0midx\u001b[0m \u001b[1;33m-\u001b[0m \u001b[1;36m9\u001b[0m\u001b[1;33m)\u001b[0m\u001b[1;33m,\u001b[0m \u001b[0midx\u001b[0m\u001b[1;33m\u001b[0m\u001b[1;33m\u001b[0m\u001b[0m\n",
      "\u001b[1;32mc:\\users\\user\\appdata\\local\\programs\\python\\python38\\lib\\random.py\u001b[0m in \u001b[0;36msample\u001b[1;34m(self, population, k)\u001b[0m\n\u001b[0;32m    361\u001b[0m         \u001b[0mn\u001b[0m \u001b[1;33m=\u001b[0m \u001b[0mlen\u001b[0m\u001b[1;33m(\u001b[0m\u001b[0mpopulation\u001b[0m\u001b[1;33m)\u001b[0m\u001b[1;33m\u001b[0m\u001b[1;33m\u001b[0m\u001b[0m\n\u001b[0;32m    362\u001b[0m         \u001b[1;32mif\u001b[0m \u001b[1;32mnot\u001b[0m \u001b[1;36m0\u001b[0m \u001b[1;33m<=\u001b[0m \u001b[0mk\u001b[0m \u001b[1;33m<=\u001b[0m \u001b[0mn\u001b[0m\u001b[1;33m:\u001b[0m\u001b[1;33m\u001b[0m\u001b[1;33m\u001b[0m\u001b[0m\n\u001b[1;32m--> 363\u001b[1;33m             \u001b[1;32mraise\u001b[0m \u001b[0mValueError\u001b[0m\u001b[1;33m(\u001b[0m\u001b[1;34m\"Sample larger than population or is negative\"\u001b[0m\u001b[1;33m)\u001b[0m\u001b[1;33m\u001b[0m\u001b[1;33m\u001b[0m\u001b[0m\n\u001b[0m\u001b[0;32m    364\u001b[0m         \u001b[0mresult\u001b[0m \u001b[1;33m=\u001b[0m \u001b[1;33m[\u001b[0m\u001b[1;32mNone\u001b[0m\u001b[1;33m]\u001b[0m \u001b[1;33m*\u001b[0m \u001b[0mk\u001b[0m\u001b[1;33m\u001b[0m\u001b[1;33m\u001b[0m\u001b[0m\n\u001b[0;32m    365\u001b[0m         \u001b[0msetsize\u001b[0m \u001b[1;33m=\u001b[0m \u001b[1;36m21\u001b[0m        \u001b[1;31m# size of a small set minus size of an empty list\u001b[0m\u001b[1;33m\u001b[0m\u001b[1;33m\u001b[0m\u001b[0m\n",
      "\u001b[1;31mValueError\u001b[0m: Sample larger than population or is negative"
     ]
    }
   ],
   "source": [
    "M.graph('DaBaoSher')"
   ]
  },
  {
   "cell_type": "code",
   "execution_count": null,
   "metadata": {},
   "outputs": [],
   "source": []
  }
 ],
 "metadata": {
  "kernelspec": {
   "display_name": "Python 3",
   "language": "python",
   "name": "python3"
  },
  "language_info": {
   "codemirror_mode": {
    "name": "ipython",
    "version": 3
   },
   "file_extension": ".py",
   "mimetype": "text/x-python",
   "name": "python",
   "nbconvert_exporter": "python",
   "pygments_lexer": "ipython3",
   "version": "3.8.1"
  }
 },
 "nbformat": 4,
 "nbformat_minor": 4
}
